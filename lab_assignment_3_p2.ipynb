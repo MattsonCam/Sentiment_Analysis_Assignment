{
  "nbformat": 4,
  "nbformat_minor": 0,
  "metadata": {
    "colab": {
      "name": "lab_assignment_3_p2.ipynb",
      "provenance": [],
      "collapsed_sections": []
    },
    "kernelspec": {
      "name": "python3",
      "display_name": "Python 3"
    },
    "language_info": {
      "name": "python"
    }
  },
  "cells": [
    {
      "cell_type": "code",
      "execution_count": null,
      "metadata": {
        "id": "dJO9onyZ1L_t"
      },
      "outputs": [],
      "source": [
        "import os\n",
        "from keras.layers import TextVectorization\n",
        "from sklearn.model_selection import train_test_split\n",
        "import tensorflow as tf\n",
        "import numpy as np\n",
        "from keras.layers import Embedding\n",
        "from keras.initializers import Constant\n",
        "from keras.models import Sequential\n",
        "from keras.layers import Dense, Dropout, LSTM\n",
        "from keras.callbacks import ModelCheckpoint\n",
        "from tensorflow.keras.utils import to_categorical\n",
        "from keras import layers, Input, Model\n",
        "from sklearn.metrics import precision_score, recall_score "
      ]
    },
    {
      "cell_type": "code",
      "source": [
        "X_pathneg = 'rt-polarity.neg'\n",
        "X_pathpos = 'rt-polarity.pos'\n",
        "\n",
        "with open(X_pathneg, encoding = \"ISO-8859-1\") as file:\n",
        "    X_listneg = file.readlines()\n",
        "\n",
        "with open(X_pathpos, encoding = \"ISO-8859-1\") as file:\n",
        "    X_listpos = file.readlines()\n",
        " \n",
        "X_list = X_listneg + X_listpos\n",
        "y_list = [0]*len(X_listneg) + [1]*len(X_listpos)\n",
        "\n",
        "X_list = [classval[:-1] for classval in X_list]\n",
        "classes = np.unique(y_list)\n",
        "unique_letters = np.unique(X_list)"
      ],
      "metadata": {
        "id": "ZYCY-w7h1Ugc"
      },
      "execution_count": null,
      "outputs": []
    },
    {
      "cell_type": "code",
      "source": [
        "embed_dim = 100\n",
        "vectorizer = TextVectorization(max_tokens=20600, output_sequence_length=embed_dim)\n",
        "text_ds = tf.data.Dataset.from_tensor_slices(X_list).batch(128) ## Read batches of 128 samples\n",
        "vectorizer.adapt(text_ds)"
      ],
      "metadata": {
        "id": "XO7z_Mvd23Zj"
      },
      "execution_count": null,
      "outputs": []
    },
    {
      "cell_type": "code",
      "source": [
        "vocab = vectorizer.get_vocabulary()\n",
        "vocab_to_index = dict(zip(vocab,range(len(vocab))))\n",
        "index_to_vocab = dict(zip(range(len(vocab)),vocab))\n",
        "\n",
        "X_train, X_test, y_train, y_test = train_test_split(X_list, y_list, train_size = 7/10, random_state = 1)\n",
        "\n",
        "X_train = vectorizer(np.array([[s] for s in X_train])).numpy()\n",
        "X_test = vectorizer(np.array([[s] for s in X_test])).numpy()\n",
        "\n",
        "y_train = to_categorical(y_train).astype(np.int64)\n",
        "y_test = to_categorical(y_test).astype(np.int64)\n",
        "y_test_labels = np.argmax(y_test, axis = 1)"
      ],
      "metadata": {
        "id": "lNxSh02l1Vjh"
      },
      "execution_count": null,
      "outputs": []
    },
    {
      "cell_type": "code",
      "source": [
        "class models:\n",
        "\n",
        "  def __init__(self, xtrain, ytrain, embed_layer):\n",
        "    self.X_train = xtrain\n",
        "    self.y_train = ytrain\n",
        "    self.embedding_layer = embed_layer\n",
        "    self.modmetrics = []\n",
        "\n",
        "  def conf_mat(self, y_test):\n",
        "    y_test = np.argmax(y_test, axis = 1)\n",
        "    conf_mat = confusion_matrix(y_test, self.y_pred)\n",
        "    return conf_mat\n",
        "\n",
        "  def get_metrics(self,ytest,ypred):\n",
        "    self.modmetrics.append([precision_score(ytest, ypred), recall_score(ytest, ypred)])\n",
        "    return self\n",
        "\n",
        "  def get_pred(self, X_test, y_test):\n",
        "    modpreds = np.argmax(self.savedmodel.predict(X_test), axis = 1)\n",
        "    y_test = np.argmax(y_test, axis = 1)\n",
        "    self.get_metrics(y_test,modpreds)\n",
        "    self.y_pred = modpreds\n",
        "    return self\n",
        "\n",
        "  def lstm_mod(self):\n",
        "    classes = self.y_train.shape[1]\n",
        "    int_sequences_input = Input(shape=(None,), dtype=\"int64\")\n",
        "    embedded_sequences = self.embedding_layer(int_sequences_input)\n",
        "    x = layers.Bidirectional(layers.LSTM(20))(embedded_sequences)\n",
        "    preds = layers.Dense(classes, activation=\"softmax\")(x)\n",
        "    model1 = Model(int_sequences_input, preds)\n",
        "    #model1.summary()\n",
        "\n",
        "    model1.compile(loss=\"categorical_crossentropy\", optimizer=\"adam\")\n",
        "    model1.fit(self.X_train, self.y_train, batch_size=128, epochs=10)\n",
        "    \n",
        "    self.savedmodel = model1\n",
        "\n",
        "    return self\n",
        "\n",
        "  def gru_mod(self):\n",
        "    classes = self.y_train.shape[1]    \n",
        "    int_sequences_input = Input(shape=(None,), dtype=\"int64\")\n",
        "    embedded_sequences = self.embedding_layer(int_sequences_input)\n",
        "    x = layers.Bidirectional(layers.GRU(20))(embedded_sequences)\n",
        "    preds = layers.Dense(classes, activation=\"softmax\")(x)\n",
        "    model2 = Model(int_sequences_input, preds)\n",
        "    #model2.summary()\n",
        "\n",
        "    model2.compile(loss=\"categorical_crossentropy\", optimizer=\"adam\")\n",
        "    model2.fit(self.X_train, self.y_train, batch_size=128, epochs=10)\n",
        "    \n",
        "    self.savedmodel = model2\n",
        "\n",
        "    return self\n",
        "\n",
        "  def rnn_mod(self):\n",
        "    classes = self.y_train.shape[1]\n",
        "    int_sequences_input = Input(shape=(None,), dtype=\"int64\")\n",
        "    embedded_sequences = self.embedding_layer(int_sequences_input)\n",
        "    x = layers.Bidirectional(layers.SimpleRNN(20))(embedded_sequences)\n",
        "    preds = layers.Dense(classes, activation=\"softmax\")(x)\n",
        "    model3 = Model(int_sequences_input, preds)\n",
        "    #model3.summary()\n",
        "\n",
        "    model3.compile(loss=\"categorical_crossentropy\", optimizer=\"adam\")\n",
        "    model3.fit(self.X_train, self.y_train, batch_size=128, epochs=10)\n",
        "\n",
        "    self.savedmodel = model3\n",
        "\n",
        "    return self"
      ],
      "metadata": {
        "id": "P2IfYGar1aiF"
      },
      "execution_count": null,
      "outputs": []
    },
    {
      "cell_type": "code",
      "source": [
        "!wget http://nlp.stanford.edu/data/glove.6B.zip\n",
        "!unzip -q glove.6B.zip"
      ],
      "metadata": {
        "id": "eiUanSPq1eU0"
      },
      "execution_count": null,
      "outputs": []
    },
    {
      "cell_type": "code",
      "source": [
        "def create_embed(filepath, myvocab, myembed_dim):\n",
        "  path_to_glove_file = filepath\n",
        "  vocab = myvocab\n",
        "  embed_dim = myembed_dim\n",
        "  embeddings_index = {}\n",
        "  with open(path_to_glove_file) as f:\n",
        "      for line in f:\n",
        "          word, coefs = line.split(maxsplit=1)\n",
        "          coefs = np.fromstring(coefs, \"f\", sep=\" \")\n",
        "          embeddings_index[word] = coefs\n",
        "\n",
        "  num_tokens = len(vocab) \n",
        "\n",
        "  hits = 0 ## number of words that were found in the pretrained model\n",
        "  misses = 0 ## number of words that were missing in the pretrained model\n",
        "  word_index = dict(zip(vocab, range(len(vocab))))\n",
        "  # Prepare embedding matrix for our word list\n",
        "  embedding_matrix = np.zeros((num_tokens, embed_dim))\n",
        "  for word, i in word_index.items():\n",
        "      embedding_vector = embeddings_index.get(word)\n",
        "      if embedding_vector is not None:\n",
        "          # Words not found in embedding index will be all-zeros.\n",
        "          # This includes the representation for \"padding\" and \"OOV\"\n",
        "          embedding_matrix[i] = embedding_vector\n",
        "          hits += 1\n",
        "      else:\n",
        "          misses += 1\n",
        "\n",
        "  print(\"Converted %d words (%d misses)\" % (hits, misses))\n",
        "\n",
        "  embedding_layer = Embedding(num_tokens, embed_dim,\n",
        "                              embeddings_initializer= Constant(embedding_matrix), \n",
        "                              trainable=False,\n",
        "  )\n",
        "\n",
        "  return embedding_layer"
      ],
      "metadata": {
        "id": "oNLl_BI11nVi"
      },
      "execution_count": null,
      "outputs": []
    },
    {
      "cell_type": "code",
      "source": [
        "embedding_layer = create_embed(\"drive/MyDrive/emb.txt\", vocab, embed_dim)\n",
        "\n",
        "rnn_obj3 = models(X_train, y_train, embedding_layer).rnn_mod()\n",
        "rnn_obj3.get_pred(X_test, y_test)\n",
        "rnn_mets3 = rnn_obj3.modmetrics"
      ],
      "metadata": {
        "colab": {
          "base_uri": "https://localhost:8080/"
        },
        "id": "bv1BUsW116uO",
        "outputId": "aa45486e-a744-4760-d389-b213f8e80f36"
      },
      "execution_count": null,
      "outputs": [
        {
          "output_type": "stream",
          "name": "stderr",
          "text": [
            "/usr/local/lib/python3.7/dist-packages/ipykernel_launcher.py:9: DeprecationWarning: string or file could not be read to its end due to unmatched data; this will raise a ValueError in the future.\n",
            "  if __name__ == '__main__':\n"
          ]
        },
        {
          "output_type": "stream",
          "name": "stdout",
          "text": [
            "Converted 18233 words (2286 misses)\n",
            "Epoch 1/10\n",
            "59/59 [==============================] - 4s 47ms/step - loss: 0.7169\n",
            "Epoch 2/10\n",
            "59/59 [==============================] - 3s 46ms/step - loss: 0.6754\n",
            "Epoch 3/10\n",
            "59/59 [==============================] - 3s 46ms/step - loss: 0.6502\n",
            "Epoch 4/10\n",
            "59/59 [==============================] - 3s 47ms/step - loss: 0.6038\n",
            "Epoch 5/10\n",
            "59/59 [==============================] - 3s 46ms/step - loss: 0.5802\n",
            "Epoch 6/10\n",
            "59/59 [==============================] - 3s 46ms/step - loss: 0.5600\n",
            "Epoch 7/10\n",
            "59/59 [==============================] - 3s 46ms/step - loss: 0.5476\n",
            "Epoch 8/10\n",
            "59/59 [==============================] - 3s 47ms/step - loss: 0.5429\n",
            "Epoch 9/10\n",
            "59/59 [==============================] - 3s 46ms/step - loss: 0.5428\n",
            "Epoch 10/10\n",
            "59/59 [==============================] - 3s 46ms/step - loss: 0.5488\n"
          ]
        }
      ]
    },
    {
      "cell_type": "code",
      "source": [
        "embedding_layer = create_embed(\"glove.6B.100d.txt\", vocab, embed_dim)\n",
        "\n",
        "rnn_obj4 = models(X_train, y_train, embedding_layer).lstm_mod()\n",
        "rnn_obj4.get_pred(X_test, y_test)\n",
        "rnn_mets4 = rnn_obj4.modmetrics"
      ],
      "metadata": {
        "id": "hURjErSs1xQn",
        "colab": {
          "base_uri": "https://localhost:8080/"
        },
        "outputId": "97067671-6e95-4c75-f4c8-1f6f7feed27c"
      },
      "execution_count": null,
      "outputs": [
        {
          "output_type": "stream",
          "name": "stdout",
          "text": [
            "Converted 17484 words (3035 misses)\n",
            "Epoch 1/10\n",
            "59/59 [==============================] - 9s 95ms/step - loss: 0.6645\n",
            "Epoch 2/10\n",
            "59/59 [==============================] - 6s 93ms/step - loss: 0.5892\n",
            "Epoch 3/10\n",
            "59/59 [==============================] - 5s 93ms/step - loss: 0.5412\n",
            "Epoch 4/10\n",
            "59/59 [==============================] - 6s 94ms/step - loss: 0.5179\n",
            "Epoch 5/10\n",
            "59/59 [==============================] - 6s 94ms/step - loss: 0.4990\n",
            "Epoch 6/10\n",
            "59/59 [==============================] - 6s 93ms/step - loss: 0.4898\n",
            "Epoch 7/10\n",
            "59/59 [==============================] - 6s 94ms/step - loss: 0.4756\n",
            "Epoch 8/10\n",
            "59/59 [==============================] - 6s 95ms/step - loss: 0.4678\n",
            "Epoch 9/10\n",
            "59/59 [==============================] - 6s 93ms/step - loss: 0.4559\n",
            "Epoch 10/10\n",
            "59/59 [==============================] - 6s 94ms/step - loss: 0.4512\n"
          ]
        }
      ]
    },
    {
      "cell_type": "code",
      "source": [
        "from sklearn.metrics import confusion_matrix\n",
        "import seaborn as sns\n",
        "import matplotlib.pyplot as plt\n",
        "\n",
        "glove_mat = rnn_obj3.conf_mat(y_test)\n",
        "other_mat = rnn_obj4.conf_mat(y_test)\n",
        "\n",
        "myax = sns.heatmap(glove_mat.T, square = True, annot = True, fmt = 'd', \\\n",
        "cbar = False).set(title='RNN Confusion matrix with GloVE word embeddings',xlabel='True Label', ylabel='Predicted Label')\n",
        "plt.savefig('glove_conf_mat.png')\n",
        "plt.show()\n",
        "\n",
        "myax = sns.heatmap(other_mat.T, square = True, annot = True, fmt = 'd', \\\n",
        "cbar = False).set(title='RNN Confusion matrix with Wikipedia2Vec word embeddings',xlabel='True Label', ylabel='Predicted Label')\n",
        "plt.savefig('other_conf_mat.png')\n",
        "plt.show()\n",
        "\n",
        "print(f'\\nThe RNN model\\'s precision is {rnn_mets3[0][0]} and the RNN model\\'s recall is {rnn_mets3[0][1]} using the GloVE word embeddings.')\n",
        "print(f'\\nThe RNN model\\'s precision is {rnn_mets4[0][0]} and the RNN model\\'s recall is {rnn_mets4[0][1]} using the Wikipedia2Vec word embeddings.\\n')"
      ],
      "metadata": {
        "id": "57Io6yGy2aaJ",
        "colab": {
          "base_uri": "https://localhost:8080/",
          "height": 680
        },
        "outputId": "19bb60c8-4b05-4f6a-b38c-20940f457059"
      },
      "execution_count": null,
      "outputs": [
        {
          "output_type": "display_data",
          "data": {
            "image/png": "[encoded data removed]",
            "text/plain": [
              "<Figure size 432x288 with 1 Axes>"
            ]
          },
          "metadata": {
            "needs_background": "light"
          }
        },
        {
          "output_type": "display_data",
          "data": {
            "image/png": "[encoded data removed]",
            "text/plain": [
              "<Figure size 432x288 with 1 Axes>"
            ]
          },
          "metadata": {
            "needs_background": "light"
          }
        },
        {
          "output_type": "stream",
          "name": "stdout",
          "text": [
            "\n",
            "The RNN model's precision is 0.7413931144915933 and the RNN model's recall is 0.580564263322884 using the GloVE word embeddings.\n",
            "\n",
            "The RNN model's precision is 0.7512135922330098 and the RNN model's recall is 0.7761755485893417 using the Wikipedia2Vec word embeddings.\n",
            "\n"
          ]
        }
      ]
    },
    {
      "cell_type": "code",
      "source": [
        ""
      ],
      "metadata": {
        "id": "vIHg_T622l60"
      },
      "execution_count": null,
      "outputs": []
    }
  ]
}