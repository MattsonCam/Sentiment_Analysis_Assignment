{
  "nbformat": 4,
  "nbformat_minor": 0,
  "metadata": {
    "colab": {
      "name": "lab_assignment_3_Problem_1.ipynb",
      "provenance": []
    },
    "kernelspec": {
      "name": "python3",
      "display_name": "Python 3"
    },
    "language_info": {
      "name": "python"
    }
  },
  "cells": [
    {
      "cell_type": "code",
      "execution_count": 41,
      "metadata": {
        "id": "UuzAGJRExfZi"
      },
      "outputs": [],
      "source": [
        "import os\n",
        "from keras.layers import TextVectorization\n",
        "from sklearn.model_selection import train_test_split\n",
        "import tensorflow as tf\n",
        "import numpy as np\n",
        "from keras.layers import Embedding\n",
        "from keras.initializers import Constant"
      ]
    },
    {
      "cell_type": "code",
      "source": [
        "y_path = 'sms_class.txt'\n",
        "X_path = 'sms_messages.txt'\n",
        "\n",
        "with open(X_path) as file:\n",
        "    X_list = file.readlines()\n",
        "\n",
        "with open(y_path) as file:\n",
        "    y_list = file.readlines()\n",
        "\n",
        "y_list = [classval[:-1] for classval in y_list]\n",
        "X_list = [classval[:-1] for classval in X_list]\n",
        "print(len(X_list))\n",
        "print(len(y_list))\n",
        "classes = np.unique(y_list)\n",
        "unique_letters = np.unique(X_list)\n",
        "print(len(unique_letters))\n",
        "class_to_index = dict((c,i) for i, c in enumerate(classes))"
      ],
      "metadata": {
        "colab": {
          "base_uri": "https://localhost:8080/"
        },
        "id": "U3hVzB971G19",
        "outputId": "22edf797-af46-47e6-a8d6-08533f45f8b0"
      },
      "execution_count": 35,
      "outputs": [
        {
          "output_type": "stream",
          "name": "stdout",
          "text": [
            "5574\n",
            "5574\n",
            "5171\n"
          ]
        }
      ]
    },
    {
      "cell_type": "code",
      "source": [
        "embed_dim = 100\n",
        "vectorizer = TextVectorization(max_tokens=10000, output_sequence_length=embed_dim)\n",
        "text_ds = tf.data.Dataset.from_tensor_slices(X_list).batch(128) ## Read batches of 128 samples\n",
        "vectorizer.adapt(text_ds)"
      ],
      "metadata": {
        "id": "WQEsQqOdTTV3"
      },
      "execution_count": 52,
      "outputs": []
    },
    {
      "cell_type": "code",
      "source": [
        "print(len(vectorizer.get_vocabulary())) ## We set max_tokens=10000\n",
        "vocab = vectorizer.get_vocabulary()\n",
        "n = 11\n",
        "vocab[n:n+5]\n",
        "vocab_to_index = dict(zip(vocab,range(len(vocab))))\n",
        "index_to_vocab = dict(zip(range(len(vocab)),vocab))\n",
        "\n",
        "X_train, X_test, y_train, y_test = train_test_split(X_list, y_list, train_size = 8/10, random_state = 1)\n",
        "\n"
      ],
      "metadata": {
        "colab": {
          "base_uri": "https://localhost:8080/"
        },
        "id": "NoUe0CBx7y7x",
        "outputId": "85de082f-e5da-4ead-fbbe-b657df4d4069"
      },
      "execution_count": 86,
      "outputs": [
        {
          "output_type": "stream",
          "name": "stdout",
          "text": [
            "9665\n"
          ]
        }
      ]
    },
    {
      "cell_type": "code",
      "source": [
        "from keras.models import Sequential\n",
        "from keras.layers import Dense, Dropout, LSTM\n",
        "from keras.callbacks import ModelCheckpoint\n",
        "from tensorflow.keras.utils import to_categorical\n",
        "X_train = vectorizer(np.array([[s] for s in X_train])).numpy()\n",
        "y_train = vectorizer(np.array([[s] for s in y_train])).numpy()"
      ],
      "metadata": {
        "id": "8dDcMb5FgTeO"
      },
      "execution_count": 87,
      "outputs": []
    },
    {
      "cell_type": "code",
      "source": [
        ""
      ],
      "metadata": {
        "id": "kpvn9qX3gTU2"
      },
      "execution_count": null,
      "outputs": []
    }
  ]
}